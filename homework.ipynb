{
 "metadata": {
  "language_info": {
   "codemirror_mode": {
    "name": "ipython",
    "version": 3
   },
   "file_extension": ".py",
   "mimetype": "text/x-python",
   "name": "python",
   "nbconvert_exporter": "python",
   "pygments_lexer": "ipython3",
   "version": "3.8.5-final"
  },
  "orig_nbformat": 2,
  "kernelspec": {
   "name": "python3",
   "display_name": "Python 3",
   "language": "python"
  }
 },
 "nbformat": 4,
 "nbformat_minor": 2,
 "cells": [
  {
   "cell_type": "code",
   "execution_count": 3,
   "metadata": {},
   "outputs": [
    {
     "output_type": "stream",
     "name": "stdout",
     "text": [
      "['sentence', 'a', 'is', 'this', '.']\n"
     ]
    },
    {
     "output_type": "execute_result",
     "data": {
      "text/plain": [
       "['.', 'siht', 'si', 'a', 'ecnetnes']"
      ]
     },
     "metadata": {},
     "execution_count": 3
    }
   ],
   "source": [
    "words = ['this' , 'is', 'a', 'sentence', '.']\n",
    "\n",
    "def swap(words, w, x, y, z):\n",
    "    words[w], words[x], words[y], words[z] = words[z], words[y], words[x], words[w]\n",
    "    return words\n",
    "\n",
    "swap(words, 0, 1, 2, 3)\n",
    "print (words)\n",
    "\n",
    "\n",
    "def reverse_list(word_list):\n",
    "    left = 0\n",
    "    right = len(word_list) - 1\n",
    "    while left <= right:\n",
    "        word_list[left], word_list[right] = word_list[right][::-1], word_list[left][::-1]\n",
    "        left+= 1\n",
    "        right -= 1\n",
    "    return word_list\n",
    "\n",
    "reverse_list(words)"
   ]
  },
  {
   "cell_type": "code",
   "execution_count": 27,
   "metadata": {},
   "outputs": [
    {
     "output_type": "execute_result",
     "data": {
      "text/plain": [
       "Counter({'in': 1,\n",
       "         'computing,': 1,\n",
       "         'a': 5,\n",
       "         'hash': 4,\n",
       "         'table': 2,\n",
       "         'map': 2,\n",
       "         'is': 1,\n",
       "         'data': 2,\n",
       "         'structure': 2,\n",
       "         'which': 2,\n",
       "         'implements': 1,\n",
       "         'an': 3,\n",
       "         'associative': 1,\n",
       "         'array': 2,\n",
       "         'abstract': 1,\n",
       "         'type,': 1,\n",
       "         'that': 1,\n",
       "         'can': 2,\n",
       "         'keys': 1,\n",
       "         'to': 2,\n",
       "         'values.': 1,\n",
       "         'uses': 1,\n",
       "         'function': 1,\n",
       "         'compute': 1,\n",
       "         'index': 1,\n",
       "         'into': 1,\n",
       "         'of': 1,\n",
       "         'buckets': 1,\n",
       "         'or': 1,\n",
       "         'slots': 1,\n",
       "         'from': 1,\n",
       "         'the': 1,\n",
       "         'desired': 1,\n",
       "         'value': 1,\n",
       "         'be': 1,\n",
       "         'found': 1})"
      ]
     },
     "metadata": {},
     "execution_count": 27
    }
   ],
   "source": [
    "# Create a function that counts how many distinct words are in the string below, then outputs a dictionary with the words as the key and the value as the amount of times that word appears in the string.\n",
    "# Should output:\n",
    "# {'a': 5,\n",
    "# 'abstract': 1,\n",
    "# 'an': 3,\n",
    "# 'array': 2, ... etc...\n",
    "\n",
    "a_text = 'In computing, a hash table hash map is a data structure which implements an associative array abstract data type, a structure that can map keys to values. A hash table uses a hash function to compute an index into an array of buckets or slots from which the desired value can be found'\n",
    "\n",
    "dict = {}\n",
    "\n",
    "def function(sent):\n",
    "    for i in sent: #looping through sent for word in list, anything indented under codeblock \n",
    "        i = i.strip('.' ',') #removes . and ,\n",
    "        if i in dict: \n",
    "                dict[i] += 1\n",
    "        else:\n",
    "            dict.update({i:1})\n",
    "    return dict\n",
    "\n",
    "function(sorted(a_text.lower().split(' ')))\n",
    "\n",
    "# collections library counter\n",
    "\n",
    "from collections import Counter\n",
    "\n",
    "def count(string):\n",
    "    c = Counter(string.lower().split())\n",
    "    return c\n",
    "\n",
    "count(a_text)\n",
    "\n"
   ]
  },
  {
   "cell_type": "code",
   "execution_count": 28,
   "metadata": {},
   "outputs": [
    {
     "output_type": "execute_result",
     "data": {
      "text/plain": [
       "'The index is...3'"
      ]
     },
     "metadata": {},
     "execution_count": 28
    }
   ],
   "source": [
    "# Write a program to implement a Linear Search Algorithm. Also in a comment, write the Time Complexity of the following algorithm.\n",
    "\n",
    "# Hint: Linear Searching will require searching a list for a given number\n",
    "\n",
    "nums_list = [10, 23, 45, 70, 11, 15]\n",
    "target = 70\n",
    "\n",
    "def linear_search(alist, target):\n",
    "    for i in range(len(alist)):\n",
    "        if alist[i] == target:\n",
    "            return f'The index is...{i}'\n",
    "    return -1\n",
    "\n",
    "linear_search(nums_list, target)\n",
    "#Time Complexity O(n)"
   ]
  },
  {
   "cell_type": "code",
   "execution_count": null,
   "metadata": {},
   "outputs": [],
   "source": [
    "# I only completed the first question"
   ]
  }
 ]
}